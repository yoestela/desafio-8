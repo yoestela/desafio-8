{
  "nbformat": 4,
  "nbformat_minor": 0,
  "metadata": {
    "colab": {
      "provenance": [],
      "authorship_tag": "ABX9TyPc5b+YDN3UbdSN0ogc1EkV",
      "include_colab_link": true
    },
    "kernelspec": {
      "name": "python3",
      "display_name": "Python 3"
    },
    "language_info": {
      "name": "python"
    }
  },
  "cells": [
    {
      "cell_type": "markdown",
      "metadata": {
        "id": "view-in-github",
        "colab_type": "text"
      },
      "source": [
        "<a href=\"https://colab.research.google.com/github/yoestela/desafio-8/blob/main/Desafio_8_discipulo_pablo_y_adrian.ipynb\" target=\"_parent\"><img src=\"https://colab.research.google.com/assets/colab-badge.svg\" alt=\"Open In Colab\"/></a>"
      ]
    },
    {
      "cell_type": "markdown",
      "source": [
        "**Desafío 8: Principios de programación orientada a objetos**\n",
        "\n",
        "Requisitos técnicos:\n",
        "- Herencia\n",
        "- Encapsulamiento\n",
        "\n",
        "Crear las siguientes clases con sus atributos y métodos.\n",
        "\n",
        "---\n",
        "Clase Usuario:\n",
        "\n",
        "1.   Atributos: id, nombre, apellido, teléfono, username, email, contraseña, fecha de registro, avatar, estado, online.\n",
        "2.   Métodos: login(), registrar()\n",
        "\n"
      ],
      "metadata": {
        "id": "wJyzADpm2GHu"
      }
    },
    {
      "cell_type": "code",
      "execution_count": 2,
      "metadata": {
        "id": "lTke887c2E8Z"
      },
      "outputs": [],
      "source": [
        "# Clase Usuario\n",
        "\n",
        "class Usuario:\n",
        "\n",
        "  def __init__(self,id,nomYape,telefono,username,email,contrasenia,fecha_reg,avatar,estado,online):\n",
        "    print(f\"Creando usuario para {nomYape}\")\n",
        "    self.id = id\n",
        "    self.nomYape = nomYape\n",
        "    self.telefono = telefono\n",
        "    self.username = username\n",
        "    self.email = email\n",
        "    self.contrasenia = contrasenia\n",
        "    self.fecha_reg = fecha_reg\n",
        "    self.avatar = avatar\n",
        "    self.estado = estado\n",
        "    self.online = online\n",
        "\n",
        "  def login(self, username, contrasenia):\n",
        "    if(username == 'usuario' and contrasenia == '1234'):\n",
        "      print(\"Acceso correcto\")\n",
        "    else:\n",
        "      print(\"Acceso incorrecto\")\n",
        "\n",
        "  def registrar(self, nomYape,telefono,email,fecha_reg,avatar,estado,online):\n",
        "    print(f\"Nuevo usuario registrado! Su username es:{self.username} y su contraseña es {self.contrasenia}\")\n",
        "\n",
        "\n",
        "# Clase Colaborador que hereda de usuario\n",
        "class Colaborador(Usuario):\n",
        "\n",
        "  def __init__(self,id,nomYape,telefono,username,email,contrasenia,fecha_reg,avatar,estado,online, es_colaborador)\n",
        "    super().__init__(id,nomYape,telefono,username,email,contrasenia,fecha_reg,avatar,estado,online)\n",
        "    self.es_colaborador = es_colaborador\n",
        "\n",
        "  def publicar_Articulo(self,titulo, contenido, resumen, imagen, estado):\n",
        "    if self.es_colaborador:\n",
        "      print(f\"Soy el colaborador {self.username} y estoy publicando mi artículo\")\n",
        "\n",
        "\n",
        "# Clase Publico que hereda de usuario\n",
        "class Publico(Usuario):\n",
        "\n",
        "  def __init__(self,id,nomYape,telefono,username,email,contrasenia,fecha_reg,avatar,estado,online, es_publico)\n",
        "    super().__init__(id,nomYape,telefono,username,email,contrasenia,fecha_reg,avatar,estado,online)\n",
        "    self.es_publico = es_publico\n",
        "\n",
        "  def realizar_comentario(self, id_articulo, contenido, estado):\n",
        "    if self.es_publico:\n",
        "      print(f\" Soy {self.username} y quiero comentar el articulo {id_articulo}\")"
      ]
    },
    {
      "cell_type": "markdown",
      "source": [
        "Clase Articulo con sus atributos:\n",
        "*   id\n",
        "*   id_usuario\n",
        "*   titulo\n",
        "*   resumen\n",
        "*   contenido\n",
        "*   fecha_publicacion\n",
        "*   imagen\n",
        "*   estado\n"
      ],
      "metadata": {
        "id": "synP1fWb7qH2"
      }
    },
    {
      "cell_type": "code",
      "source": [
        "# Clase Artículo\n",
        "class Articulo:\n",
        "  def __init__(self,id,id_usuario, titulo, resumen, contenido, fecha_public, imagen, estado):\n",
        "    print(f\"Creando articulo {id}, {titulo}\")\n",
        "    self.id = id\n",
        "    self.id_usuario = id_usuario\n",
        "    self.titulo = titulo\n",
        "    self.resumen = resumen\n",
        "    self.contenido = contenido\n",
        "    self.fecha_public = fecha_public\n",
        "    self.imagen = imagen\n",
        "    self.estado = estado"
      ],
      "metadata": {
        "id": "J3U76GYj-L6p"
      },
      "execution_count": 3,
      "outputs": []
    },
    {
      "cell_type": "markdown",
      "source": [
        "Clase Comentario:\n",
        "\n",
        "*   id\n",
        "*   id_articulo\n",
        "*   id_usuario\n",
        "*   contenido\n",
        "*   fecha_hora\n",
        "*   estado"
      ],
      "metadata": {
        "id": "yAg1Hw4i_A2D"
      }
    },
    {
      "cell_type": "code",
      "source": [
        "class Comentario:\n",
        "  def __init__(self,id,id_articulo,id_usuario, contenido, fecha_hora, estado):\n",
        "    print(f\"Creando articulo {id}, {titulo}\")\n",
        "    self.id = id\n",
        "    self.id_articulo = id_articulo\n",
        "    self.id_usuario = id_usuario\n",
        "    self.contenido = contenido\n",
        "    self.fecha_hora = fecha_hora\n",
        "    self.estado = estado"
      ],
      "metadata": {
        "id": "NTAA5EXk_WnP"
      },
      "execution_count": 4,
      "outputs": []
    }
  ]
}